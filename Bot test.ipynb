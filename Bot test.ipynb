{
 "cells": [
  {
   "cell_type": "code",
   "execution_count": null,
   "metadata": {},
   "outputs": [],
   "source": [
    "import warnings\n",
    "warnings.filterwarnings('ignore')\n",
    "warnings.simplefilter('ignore')"
   ]
  },
  {
   "cell_type": "code",
   "execution_count": 5,
   "metadata": {},
   "outputs": [],
   "source": [
    "from rasa.core.agent import Agent\n",
    "from rasa.core.interpreter import RasaNLUInterpreter"
   ]
  },
  {
   "cell_type": "code",
   "execution_count": 9,
   "metadata": {},
   "outputs": [],
   "source": [
    "agent = Agent.load(\"models/\")\n",
    "await agent.handle_text(\"hi\")"
   ]
  },
  {
   "cell_type": "code",
   "execution_count": 15,
   "metadata": {},
   "outputs": [
    {
     "name": "stdout",
     "output_type": "stream",
     "text": [
      "Flighdeck bot is ready!\n",
      "hi\n",
      "Bot : Hello! I am flight deck assistant. I can provide information about revenue, coverage, contacts etc. So what are you looking for?\n",
      "revenue please\n",
      "Bot : for which client?\n",
      "xiomi\n",
      "Bot : Revenue for client xiomi is 259866\n",
      "thanks\n",
      "Bot : You are very welcome.\n",
      "bye\n",
      "Bot : Talk to you later!\n",
      "hi\n",
      "Bot : Hello! I am flight deck assistant. I can provide information about revenue, coverage, contacts etc. So what are you looking for?\n",
      "revenue\n",
      "Bot : for which client?\n",
      "hsbc\n",
      "Bot : Revenue for client hsbc is 726968\n",
      "thanks\n",
      "Bot : You are very welcome.\n",
      "hi\n",
      "Bot : Hey there! I am flight deck assistant. I can provide information about revenue, coverage, contacts etc. So how may I help you today?\n",
      "revenue\n",
      "Bot : for which client?\n",
      "pimco\n",
      "Bot : Revenue for client pimco is 381576\n",
      "hsbc\n",
      "Bot : Revenue for client hsbc is 187974\n",
      "pimco\n",
      "Bot : Revenue for client pimco is 114806\n",
      "deepak\n",
      "Bot : Hello! I am flight deck assistant. I can provide information about revenue, coverage, contacts etc. So what are you looking for?\n",
      "revenue\n",
      "Bot : client name please?\n",
      "deepak\n",
      "Bot : Hey there! I am flight deck assistant. I can provide information about revenue, coverage, contacts etc. So how may I help you today?\n",
      "stop\n"
     ]
    }
   ],
   "source": [
    "print('Flighdeck bot is ready!')\n",
    "\n",
    "while True:\n",
    "    message = input()\n",
    "    if message == \"stop\":\n",
    "        break\n",
    "    responses = agent.handle_message(message)\n",
    "    for response in responses:\n",
    "        print(\"Bot : {}\".format(response[\"text\"]))\n"
   ]
  }
 ],
 "metadata": {
  "kernelspec": {
   "display_name": "fd",
   "language": "python",
   "name": "fd"
  },
  "language_info": {
   "codemirror_mode": {
    "name": "ipython",
    "version": 3
   },
   "file_extension": ".py",
   "mimetype": "text/x-python",
   "name": "python",
   "nbconvert_exporter": "python",
   "pygments_lexer": "ipython3",
   "version": "3.6.7"
  }
 },
 "nbformat": 4,
 "nbformat_minor": 2
}
